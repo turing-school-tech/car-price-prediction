{
 "cells": [
  {
   "cell_type": "markdown",
   "id": "5f7d2ba5",
   "metadata": {},
   "source": [
    "**Note** Final report  \n",
    "\n",
    "- Giá lấy log scale -> phân phối gần chuẩn\n",
    "- Used distance bị nhiễu -> không nhập (0), nhập sai (rất lớn)\n",
    "- Brand và series có hiện tượng bị lệch (có brand - serie phổ biến, có cái lại rất ít)\n",
    "- Các đời gần đây nhiều dần, những đời cũ ít dần. Giá xe tăng theo đời xe (càng gần càng đắt). Tuy vậy thì không chắc số km đã đi có xu hướng như vậy\n",
    "- Serie có quan hệ 1-1 với số cửa và số ghế  -> có thể bỏ được thông tin này\n",
    "- Loại hộp số - loại dẫn động: không chắc chắn. có thể cùng serie nhưng khác đời -> khác thông tin. Cần có kinh nghiệm để biết trường này có quan hệ 1-1 với (serie) hoặc (serie + model_year) không\n",
    "- Dung tích xy lanh: tương tự loại hộp số, dẫn động\n",
    "\n",
    "Final: có thể bỏ được (loại hộp số, dẫn động, dung tích xy lanh). Có thể tạo thêm 1 số trường mới như:  \n",
    "- Số km đi trung bình theo năm\n",
    "- log của số km đã đi\n",
    "- log của giá (có thể sẽ predict trên log của giá)"
   ]
  },
  {
   "cell_type": "markdown",
   "id": "f918b472",
   "metadata": {},
   "source": [
    "# Phân tích ban đầu"
   ]
  },
  {
   "cell_type": "code",
   "execution_count": 1,
   "id": "46aac5f5",
   "metadata": {},
   "outputs": [],
   "source": [
    "import numpy as np\n",
    "import pandas as pd\n",
    "from matplotlib import pyplot as plt\n",
    "import seaborn as sns"
   ]
  },
  {
   "cell_type": "code",
   "execution_count": 2,
   "id": "2de71504",
   "metadata": {},
   "outputs": [],
   "source": [
    "df = pd.read_csv('./preprocessed_data.csv')"
   ]
  },
  {
   "cell_type": "code",
   "execution_count": 3,
   "id": "dad56104",
   "metadata": {},
   "outputs": [
    {
     "name": "stdout",
     "output_type": "stream",
     "text": [
      "<class 'pandas.core.frame.DataFrame'>\n",
      "RangeIndex: 41613 entries, 0 to 41612\n",
      "Data columns (total 19 columns):\n",
      " #   Column             Non-Null Count  Dtype  \n",
      "---  ------             --------------  -----  \n",
      " 0   url                41613 non-null  object \n",
      " 1   brand              41613 non-null  object \n",
      " 2   serie              41137 non-null  object \n",
      " 3   model_year         41037 non-null  Int64  \n",
      " 4   price_vnd          41613 non-null  int64  \n",
      " 5   date               41613 non-null  object \n",
      " 6   origin             41613 non-null  object \n",
      " 7   status             41613 non-null  object \n",
      " 8   category           41613 non-null  object \n",
      " 9   used_distance      41613 non-null  int64  \n",
      " 10  out_color          41613 non-null  object \n",
      " 11  in_color           41613 non-null  object \n",
      " 12  num_door           41613 non-null  int64  \n",
      " 13  num_seat           41613 non-null  int64  \n",
      " 14  gear_type          41613 non-null  object \n",
      " 15  drive_type         41613 non-null  object \n",
      " 16  cylinder_capacity  39465 non-null  float64\n",
      " 17  log_price_vnd      41613 non-null  float64\n",
      " 18  log_used_distance  41613 non-null  float64\n",
      "dtypes: Int64(1), float64(3), int64(4), object(11)\n",
      "memory usage: 6.1+ MB\n"
     ]
    }
   ],
   "source": [
    "df = df.astype({\n",
    "    'model_year': 'Int64'\n",
    "})\n",
    "\n",
    "df['log_price_vnd'] = np.log(df['price_vnd'] + 1)\n",
    "df['log_used_distance'] = np.log(df['used_distance'] + 1)\n",
    "\n",
    "df.info()"
   ]
  },
  {
   "cell_type": "code",
   "execution_count": 6,
   "id": "28b5cdb0",
   "metadata": {},
   "outputs": [
    {
     "data": {
      "text/plain": [
       "Sedan                    14611\n",
       "SUV                      11573\n",
       "Hatchback                 5293\n",
       "Crossover                 3797\n",
       "Bán tải / Pickup        2307\n",
       "Van/Minivan               2142\n",
       "Truck                     1631\n",
       "Coupe                      149\n",
       "Convertible/Cabriolet       98\n",
       "Wagon                       12\n",
       "Name: category, dtype: int64"
      ]
     },
     "execution_count": 6,
     "metadata": {},
     "output_type": "execute_result"
    }
   ],
   "source": [
    "df['category'].value_counts()"
   ]
  },
  {
   "cell_type": "code",
   "execution_count": 4,
   "id": "cc5a4f41",
   "metadata": {},
   "outputs": [
    {
     "data": {
      "text/html": [
       "<div>\n",
       "<style scoped>\n",
       "    .dataframe tbody tr th:only-of-type {\n",
       "        vertical-align: middle;\n",
       "    }\n",
       "\n",
       "    .dataframe tbody tr th {\n",
       "        vertical-align: top;\n",
       "    }\n",
       "\n",
       "    .dataframe thead th {\n",
       "        text-align: right;\n",
       "    }\n",
       "</style>\n",
       "<table border=\"1\" class=\"dataframe\">\n",
       "  <thead>\n",
       "    <tr style=\"text-align: right;\">\n",
       "      <th></th>\n",
       "      <th>model_year</th>\n",
       "      <th>price_vnd</th>\n",
       "      <th>used_distance</th>\n",
       "      <th>num_door</th>\n",
       "      <th>num_seat</th>\n",
       "      <th>cylinder_capacity</th>\n",
       "      <th>log_price_vnd</th>\n",
       "      <th>log_used_distance</th>\n",
       "    </tr>\n",
       "  </thead>\n",
       "  <tbody>\n",
       "    <tr>\n",
       "      <th>count</th>\n",
       "      <td>41037.000000</td>\n",
       "      <td>41613.000000</td>\n",
       "      <td>4.161300e+04</td>\n",
       "      <td>41613.000000</td>\n",
       "      <td>41613.000000</td>\n",
       "      <td>39465.000000</td>\n",
       "      <td>41613.000000</td>\n",
       "      <td>41613.000000</td>\n",
       "    </tr>\n",
       "    <tr>\n",
       "      <th>mean</th>\n",
       "      <td>2015.695592</td>\n",
       "      <td>997.655180</td>\n",
       "      <td>1.973842e+05</td>\n",
       "      <td>4.421503</td>\n",
       "      <td>5.700190</td>\n",
       "      <td>1.981114</td>\n",
       "      <td>6.292268</td>\n",
       "      <td>4.749095</td>\n",
       "    </tr>\n",
       "    <tr>\n",
       "      <th>std</th>\n",
       "      <td>5.630388</td>\n",
       "      <td>1895.902402</td>\n",
       "      <td>2.124916e+07</td>\n",
       "      <td>0.995241</td>\n",
       "      <td>2.524158</td>\n",
       "      <td>0.780145</td>\n",
       "      <td>1.022011</td>\n",
       "      <td>5.349119</td>\n",
       "    </tr>\n",
       "    <tr>\n",
       "      <th>min</th>\n",
       "      <td>1990.000000</td>\n",
       "      <td>1.000000</td>\n",
       "      <td>0.000000e+00</td>\n",
       "      <td>0.000000</td>\n",
       "      <td>0.000000</td>\n",
       "      <td>0.100000</td>\n",
       "      <td>0.693147</td>\n",
       "      <td>0.000000</td>\n",
       "    </tr>\n",
       "    <tr>\n",
       "      <th>25%</th>\n",
       "      <td>2012.000000</td>\n",
       "      <td>305.000000</td>\n",
       "      <td>0.000000e+00</td>\n",
       "      <td>4.000000</td>\n",
       "      <td>5.000000</td>\n",
       "      <td>1.500000</td>\n",
       "      <td>5.723585</td>\n",
       "      <td>0.000000</td>\n",
       "    </tr>\n",
       "    <tr>\n",
       "      <th>50%</th>\n",
       "      <td>2017.000000</td>\n",
       "      <td>528.000000</td>\n",
       "      <td>0.000000e+00</td>\n",
       "      <td>5.000000</td>\n",
       "      <td>5.000000</td>\n",
       "      <td>2.000000</td>\n",
       "      <td>6.270988</td>\n",
       "      <td>0.000000</td>\n",
       "    </tr>\n",
       "    <tr>\n",
       "      <th>75%</th>\n",
       "      <td>2021.000000</td>\n",
       "      <td>900.000000</td>\n",
       "      <td>4.500000e+04</td>\n",
       "      <td>5.000000</td>\n",
       "      <td>7.000000</td>\n",
       "      <td>2.200000</td>\n",
       "      <td>6.803505</td>\n",
       "      <td>10.714440</td>\n",
       "    </tr>\n",
       "    <tr>\n",
       "      <th>max</th>\n",
       "      <td>2022.000000</td>\n",
       "      <td>42500.000000</td>\n",
       "      <td>4.294967e+09</td>\n",
       "      <td>56.000000</td>\n",
       "      <td>47.000000</td>\n",
       "      <td>12.900000</td>\n",
       "      <td>10.657283</td>\n",
       "      <td>22.180710</td>\n",
       "    </tr>\n",
       "  </tbody>\n",
       "</table>\n",
       "</div>"
      ],
      "text/plain": [
       "         model_year     price_vnd  used_distance      num_door      num_seat  \\\n",
       "count  41037.000000  41613.000000   4.161300e+04  41613.000000  41613.000000   \n",
       "mean    2015.695592    997.655180   1.973842e+05      4.421503      5.700190   \n",
       "std        5.630388   1895.902402   2.124916e+07      0.995241      2.524158   \n",
       "min     1990.000000      1.000000   0.000000e+00      0.000000      0.000000   \n",
       "25%     2012.000000    305.000000   0.000000e+00      4.000000      5.000000   \n",
       "50%     2017.000000    528.000000   0.000000e+00      5.000000      5.000000   \n",
       "75%     2021.000000    900.000000   4.500000e+04      5.000000      7.000000   \n",
       "max     2022.000000  42500.000000   4.294967e+09     56.000000     47.000000   \n",
       "\n",
       "       cylinder_capacity  log_price_vnd  log_used_distance  \n",
       "count       39465.000000   41613.000000       41613.000000  \n",
       "mean            1.981114       6.292268           4.749095  \n",
       "std             0.780145       1.022011           5.349119  \n",
       "min             0.100000       0.693147           0.000000  \n",
       "25%             1.500000       5.723585           0.000000  \n",
       "50%             2.000000       6.270988           0.000000  \n",
       "75%             2.200000       6.803505          10.714440  \n",
       "max            12.900000      10.657283          22.180710  "
      ]
     },
     "execution_count": 4,
     "metadata": {},
     "output_type": "execute_result"
    }
   ],
   "source": [
    "df.describe()"
   ]
  },
  {
   "cell_type": "markdown",
   "id": "64eb29a4",
   "metadata": {},
   "source": [
    "## Một số câu hỏi\n",
    "\n",
    "- Có phải tất cả các xe Mazda CX5 đều có 4 cửa, 5 chỗ. Nghĩa là nếu thông tin map 1-1 thì có thể bỏ thông tin số cửa, số chỗ\n",
    "- Có phải cùng dòng xe đều có chung dung tích xi lanh (cylinder_capacity). Nếu đúng, có thể bỏ không? (dung tích xi lanh có ảnh hưởng gì đến giá không)\n",
    "- used_distance có std lớn gấp 100 lần mean -> dữ liệu nhập sai, phải clean\n",
    "- Kiểm tra dữ liệu về giá"
   ]
  },
  {
   "cell_type": "markdown",
   "id": "5c25dae1",
   "metadata": {},
   "source": [
    "## Phân tích các trường đơn lẻ\n",
    "### Các trường numeric"
   ]
  },
  {
   "cell_type": "markdown",
   "id": "0bb89fe7",
   "metadata": {},
   "source": [
    "#### Giá\n",
    "Nhận thấy có rất nhiều dữ liệu không nhập số km đã đi(quá 1 nửa đều là 0). Và số km đã đi cũng bị nhập sai, có những điểm số km đã đi rất lớn (e mũ 22)"
   ]
  },
  {
   "cell_type": "code",
   "execution_count": 5,
   "id": "937e2778",
   "metadata": {},
   "outputs": [
    {
     "data": {
      "text/plain": [
       "<AxesSubplot:xlabel='log_price_vnd', ylabel='Count'>"
      ]
     },
     "execution_count": 5,
     "metadata": {},
     "output_type": "execute_result"
    },
    {
     "data": {
      "image/png": "[encoded data removed]",
      "text/plain": [
       "<Figure size 432x288 with 1 Axes>"
      ]
     },
     "metadata": {
      "needs_background": "light"
     },
     "output_type": "display_data"
    }
   ],
   "source": [
    "sns.histplot(df['log_price_vnd'])"
   ]
  },
  {
   "cell_type": "code",
   "execution_count": 6,
   "id": "a67fcae2",
   "metadata": {},
   "outputs": [
    {
     "data": {
      "text/plain": [
       "<AxesSubplot:xlabel='price_vnd', ylabel='Count'>"
      ]
     },
     "execution_count": 6,
     "metadata": {},
     "output_type": "execute_result"
    },
    {
     "data": {
      "image/png": "[encoded data removed]",
      "text/plain": [
       "<Figure size 432x288 with 1 Axes>"
      ]
     },
     "metadata": {
      "needs_background": "light"
     },
     "output_type": "display_data"
    }
   ],
   "source": [
    "sns.histplot(df['price_vnd'])"
   ]
  },
  {
   "cell_type": "code",
   "execution_count": 7,
   "id": "152695fa",
   "metadata": {},
   "outputs": [
    {
     "data": {
      "text/plain": [
       "count    41613.000000\n",
       "mean         6.292268\n",
       "std          1.022011\n",
       "min          0.693147\n",
       "25%          5.723585\n",
       "50%          6.270988\n",
       "75%          6.803505\n",
       "max         10.657283\n",
       "Name: log_price_vnd, dtype: float64"
      ]
     },
     "execution_count": 7,
     "metadata": {},
     "output_type": "execute_result"
    }
   ],
   "source": [
    "df['log_price_vnd'].describe()"
   ]
  },
  {
   "cell_type": "code",
   "execution_count": 8,
   "id": "b1cd1e48",
   "metadata": {},
   "outputs": [
    {
     "data": {
      "text/plain": [
       "count    41613.000000\n",
       "mean       997.655180\n",
       "std       1895.902402\n",
       "min          1.000000\n",
       "25%        305.000000\n",
       "50%        528.000000\n",
       "75%        900.000000\n",
       "max      42500.000000\n",
       "Name: price_vnd, dtype: float64"
      ]
     },
     "execution_count": 8,
     "metadata": {},
     "output_type": "execute_result"
    }
   ],
   "source": [
    "df['price_vnd'].describe()"
   ]
  },
  {
   "cell_type": "markdown",
   "id": "0a08f797",
   "metadata": {},
   "source": [
    "#### Số km đã đi"
   ]
  },
  {
   "cell_type": "code",
   "execution_count": 9,
   "id": "fdcd577c",
   "metadata": {},
   "outputs": [
    {
     "data": {
      "text/plain": [
       "<AxesSubplot:xlabel='log_used_distance', ylabel='Count'>"
      ]
     },
     "execution_count": 9,
     "metadata": {},
     "output_type": "execute_result"
    },
    {
     "data": {
      "image/png": "[encoded data removed]",
      "text/plain": [
       "<Figure size 432x288 with 1 Axes>"
      ]
     },
     "metadata": {
      "needs_background": "light"
     },
     "output_type": "display_data"
    }
   ],
   "source": [
    "sns.histplot(df['log_used_distance'])"
   ]
  },
  {
   "cell_type": "code",
   "execution_count": 10,
   "id": "39b2db62",
   "metadata": {},
   "outputs": [
    {
     "data": {
      "text/plain": [
       "count    41613.000000\n",
       "mean         4.749095\n",
       "std          5.349119\n",
       "min          0.000000\n",
       "25%          0.000000\n",
       "50%          0.000000\n",
       "75%         10.714440\n",
       "max         22.180710\n",
       "Name: log_used_distance, dtype: float64"
      ]
     },
     "execution_count": 10,
     "metadata": {},
     "output_type": "execute_result"
    }
   ],
   "source": [
    "df['log_used_distance'].describe()"
   ]
  },
  {
   "cell_type": "code",
   "execution_count": 11,
   "id": "b32e438d",
   "metadata": {},
   "outputs": [
    {
     "data": {
      "text/plain": [
       "count    4.161300e+04\n",
       "mean     1.973842e+05\n",
       "std      2.124916e+07\n",
       "min      0.000000e+00\n",
       "25%      0.000000e+00\n",
       "50%      0.000000e+00\n",
       "75%      4.500000e+04\n",
       "max      4.294967e+09\n",
       "Name: used_distance, dtype: float64"
      ]
     },
     "execution_count": 11,
     "metadata": {},
     "output_type": "execute_result"
    }
   ],
   "source": [
    "df['used_distance'].describe()"
   ]
  },
  {
   "cell_type": "markdown",
   "id": "1fb57bac",
   "metadata": {},
   "source": [
    "#### Dung tích xi lanh (cylinder_capacity)"
   ]
  },
  {
   "cell_type": "code",
   "execution_count": 12,
   "id": "839da695",
   "metadata": {
    "scrolled": false
   },
   "outputs": [
    {
     "name": "stderr",
     "output_type": "stream",
     "text": [
      "/home/huytung/.pyenv/versions/3.8.12/envs/ai/lib/python3.8/site-packages/seaborn/distributions.py:2619: FutureWarning: `distplot` is a deprecated function and will be removed in a future version. Please adapt your code to use either `displot` (a figure-level function with similar flexibility) or `histplot` (an axes-level function for histograms).\n",
      "  warnings.warn(msg, FutureWarning)\n"
     ]
    },
    {
     "data": {
      "text/plain": [
       "<AxesSubplot:xlabel='cylinder_capacity', ylabel='Density'>"
      ]
     },
     "execution_count": 12,
     "metadata": {},
     "output_type": "execute_result"
    },
    {
     "data": {
      "image/png": "[encoded data removed]",
      "text/plain": [
       "<Figure size 432x288 with 1 Axes>"
      ]
     },
     "metadata": {
      "needs_background": "light"
     },
     "output_type": "display_data"
    }
   ],
   "source": [
    "sns.distplot(df['cylinder_capacity'])"
   ]
  },
  {
   "cell_type": "code",
   "execution_count": 13,
   "id": "4bcbab21",
   "metadata": {},
   "outputs": [
    {
     "data": {
      "text/plain": [
       "count    39465.000000\n",
       "mean         1.981114\n",
       "std          0.780145\n",
       "min          0.100000\n",
       "25%          1.500000\n",
       "50%          2.000000\n",
       "75%          2.200000\n",
       "max         12.900000\n",
       "Name: cylinder_capacity, dtype: float64"
      ]
     },
     "execution_count": 13,
     "metadata": {},
     "output_type": "execute_result"
    }
   ],
   "source": [
    "df['cylinder_capacity'].describe()"
   ]
  },
  {
   "cell_type": "markdown",
   "id": "a6338419",
   "metadata": {},
   "source": [
    "### Các trường category"
   ]
  },
  {
   "cell_type": "markdown",
   "id": "5fcf0ae2",
   "metadata": {},
   "source": [
    "#### Brand"
   ]
  },
  {
   "cell_type": "code",
   "execution_count": 14,
   "id": "c3f45523",
   "metadata": {
    "scrolled": true
   },
   "outputs": [
    {
     "data": {
      "text/plain": [
       "77"
      ]
     },
     "execution_count": 14,
     "metadata": {},
     "output_type": "execute_result"
    }
   ],
   "source": [
    "df['brand'].nunique()"
   ]
  },
  {
   "cell_type": "code",
   "execution_count": 15,
   "id": "59d73651",
   "metadata": {
    "scrolled": true
   },
   "outputs": [
    {
     "data": {
      "text/plain": [
       "Toyota           8682\n",
       "Hyundai          4892\n",
       "Kia              4526\n",
       "Ford             3750\n",
       "Mercedes Benz    3491\n",
       "Mazda            2431\n",
       "Mitsubishi       1671\n",
       "Honda            1624\n",
       "VinFast          1308\n",
       "Chevrolet        1169\n",
       "Name: brand, dtype: int64"
      ]
     },
     "execution_count": 15,
     "metadata": {},
     "output_type": "execute_result"
    }
   ],
   "source": [
    "popular_brands = df['brand'].value_counts()[(df['brand'].value_counts() > 1000)]\n",
    "popular_brands"
   ]
  },
  {
   "cell_type": "markdown",
   "id": "8c56e847",
   "metadata": {},
   "source": [
    "Tổng số xe thuộc các hãng phổ biến và phần trăm của nó"
   ]
  },
  {
   "cell_type": "code",
   "execution_count": 16,
   "id": "f9fbc103",
   "metadata": {},
   "outputs": [],
   "source": [
    "number_of_car_in_popular_brands = popular_brands.sum()"
   ]
  },
  {
   "cell_type": "code",
   "execution_count": 17,
   "id": "7690e41d",
   "metadata": {},
   "outputs": [
    {
     "data": {
      "text/plain": [
       "{'Toyota': 0.21,\n",
       " 'Hyundai': 0.12,\n",
       " 'Kia': 0.11,\n",
       " 'Ford': 0.09,\n",
       " 'Mercedes Benz': 0.08,\n",
       " 'Mazda': 0.06,\n",
       " 'Mitsubishi': 0.04,\n",
       " 'Honda': 0.04,\n",
       " 'VinFast': 0.03,\n",
       " 'Chevrolet': 0.03}"
      ]
     },
     "execution_count": 17,
     "metadata": {},
     "output_type": "execute_result"
    }
   ],
   "source": [
    "popular_brands_percentage = {}\n",
    "\n",
    "for brand, num_car in popular_brands.items():\n",
    "    popular_brands_percentage[brand] = round(num_car/df.shape[0], 2)\n",
    "    \n",
    "popular_brands_percentage"
   ]
  },
  {
   "cell_type": "code",
   "execution_count": 18,
   "id": "ce73a307",
   "metadata": {},
   "outputs": [
    {
     "data": {
      "image/png": "[encoded data removed]",
      "text/plain": [
       "<Figure size 720x720 with 1 Axes>"
      ]
     },
     "metadata": {},
     "output_type": "display_data"
    }
   ],
   "source": [
    "fig1, ax1 = plt.subplots(figsize=(10,10))\n",
    "ax1.pie(popular_brands_percentage.values(), labels=popular_brands_percentage.keys(), \\\n",
    "        autopct='%1.1f%%', shadow=True, startangle=90)\n",
    "ax1.axis('equal')\n",
    "ax1.set_title(f'% of popular brands: {number_of_car_in_popular_brands}/{df.shape[0]}' + \\\n",
    "              f'= {round(number_of_car_in_popular_brands/df.shape[0],2)*100}%', pad=30, fontweight='bold')\n",
    "plt.show()"
   ]
  },
  {
   "cell_type": "code",
   "execution_count": 19,
   "id": "22b09b2d",
   "metadata": {
    "scrolled": false
   },
   "outputs": [
    {
     "data": {
      "text/plain": [
       "Daewoo        996\n",
       "Lexus         985\n",
       "Suzuki        743\n",
       "BMW           737\n",
       "Nissan        601\n",
       "LandRover     554\n",
       "Hãng khác     476\n",
       "MG            320\n",
       "Porsche       304\n",
       "Thaco         295\n",
       "Isuzu         291\n",
       "Audi          287\n",
       "Peugeot       249\n",
       "Volkswagen    163\n",
       "Volvo         122\n",
       "Bentley       116\n",
       "Subaru        113\n",
       "Mini           94\n",
       "Cadillac       58\n",
       "Fiat           52\n",
       "Name: brand, dtype: int64"
      ]
     },
     "execution_count": 19,
     "metadata": {},
     "output_type": "execute_result"
    }
   ],
   "source": [
    "medium_brands = df['brand'].value_counts()[\n",
    "    (df['brand'].value_counts() <= 1000) & \n",
    "    (df['brand'].value_counts() > 50)\n",
    "]\n",
    "medium_brands"
   ]
  },
  {
   "cell_type": "markdown",
   "id": "afb90714",
   "metadata": {},
   "source": [
    "Số phần trăm xe thuộc các hãng trung bình rất thấp (nhỏ nhất 0.1%)\n",
    "\n",
    "Số xe thuộc phân khúc dưới 50 xe được quan sát gần như không đáng kể, có thể sẽ phải bỏ qua"
   ]
  },
  {
   "cell_type": "code",
   "execution_count": 20,
   "id": "4a510da8",
   "metadata": {},
   "outputs": [
    {
     "data": {
      "text/plain": [
       "{'Daewoo': 2.39,\n",
       " 'Lexus': 2.37,\n",
       " 'Suzuki': 1.79,\n",
       " 'BMW': 1.77,\n",
       " 'Nissan': 1.44,\n",
       " 'LandRover': 1.3299999999999998,\n",
       " 'Hãng khác': 1.1400000000000001,\n",
       " 'MG': 0.77,\n",
       " 'Porsche': 0.73,\n",
       " 'Thaco': 0.7100000000000001,\n",
       " 'Isuzu': 0.7000000000000001,\n",
       " 'Audi': 0.69,\n",
       " 'Peugeot': 0.6,\n",
       " 'Volkswagen': 0.38999999999999996,\n",
       " 'Volvo': 0.29,\n",
       " 'Bentley': 0.27999999999999997,\n",
       " 'Subaru': 0.27,\n",
       " 'Mini': 0.22999999999999998,\n",
       " 'Cadillac': 0.13999999999999999,\n",
       " 'Fiat': 0.12}"
      ]
     },
     "execution_count": 20,
     "metadata": {},
     "output_type": "execute_result"
    }
   ],
   "source": [
    "number_of_car_in_medium_brands = medium_brands.sum()\n",
    "\n",
    "medium_brands_percentage = {}\n",
    "\n",
    "for brand, num_car in medium_brands.items():\n",
    "    medium_brands_percentage[brand] = round(num_car/df.shape[0], 4) * 100\n",
    "    \n",
    "medium_brands_percentage"
   ]
  },
  {
   "cell_type": "markdown",
   "id": "33df2e08",
   "metadata": {},
   "source": [
    "#### Năm sản xuất"
   ]
  },
  {
   "cell_type": "code",
   "execution_count": 21,
   "id": "53b99914",
   "metadata": {
    "scrolled": false
   },
   "outputs": [
    {
     "data": {
      "text/plain": [
       "<seaborn.axisgrid.FacetGrid at 0x7f9d77ed5e50>"
      ]
     },
     "execution_count": 21,
     "metadata": {},
     "output_type": "execute_result"
    },
    {
     "data": {
      "image/png": "[encoded data removed]",
      "text/plain": [
       "<Figure size 360x360 with 1 Axes>"
      ]
     },
     "metadata": {
      "needs_background": "light"
     },
     "output_type": "display_data"
    }
   ],
   "source": [
    "sns.displot(data=df, x='model_year', bins=40)"
   ]
  },
  {
   "cell_type": "markdown",
   "id": "bd85d210",
   "metadata": {},
   "source": [
    "Số xe hiện rao bán các năm càng lâu càng ít dần, giá những năm gần đây cao\n",
    "\n",
    "Tuy vậy thì không chắc các điểm này là outliner - nhập sai. Có thể do brand-series. Cần phân tích thêm và lọc"
   ]
  },
  {
   "cell_type": "code",
   "execution_count": 22,
   "id": "d6ae51e1",
   "metadata": {
    "scrolled": false
   },
   "outputs": [
    {
     "data": {
      "text/plain": [
       "<seaborn.axisgrid.JointGrid at 0x7f9d76616790>"
      ]
     },
     "execution_count": 22,
     "metadata": {},
     "output_type": "execute_result"
    },
    {
     "data": {
      "image/png": "[encoded data removed]",
      "text/plain": [
       "<Figure size 432x432 with 3 Axes>"
      ]
     },
     "metadata": {
      "needs_background": "light"
     },
     "output_type": "display_data"
    }
   ],
   "source": [
    "sns.jointplot(data=df, x='model_year', y='log_price_vnd', kind=\"scatter\")"
   ]
  },
  {
   "cell_type": "code",
   "execution_count": 23,
   "id": "a68e2fe6",
   "metadata": {},
   "outputs": [
    {
     "data": {
      "text/plain": [
       "<seaborn.axisgrid.JointGrid at 0x7f9d766b9bb0>"
      ]
     },
     "execution_count": 23,
     "metadata": {},
     "output_type": "execute_result"
    },
    {
     "data": {
      "image/png": "[encoded data removed]",
      "text/plain": [
       "<Figure size 432x432 with 3 Axes>"
      ]
     },
     "metadata": {
      "needs_background": "light"
     },
     "output_type": "display_data"
    }
   ],
   "source": [
    "sns.jointplot(data=df, x='model_year', y='log_used_distance', kind=\"scatter\")"
   ]
  },
  {
   "cell_type": "markdown",
   "id": "cf1e8b94",
   "metadata": {},
   "source": [
    "#### Xuất xứ + Trạng thái"
   ]
  },
  {
   "cell_type": "code",
   "execution_count": 24,
   "id": "b9f67912",
   "metadata": {},
   "outputs": [
    {
     "data": {
      "text/plain": [
       "<AxesSubplot:xlabel='origin', ylabel='count'>"
      ]
     },
     "execution_count": 24,
     "metadata": {},
     "output_type": "execute_result"
    },
    {
     "data": {
      "image/png": "[encoded data removed]",
      "text/plain": [
       "<Figure size 432x288 with 1 Axes>"
      ]
     },
     "metadata": {
      "needs_background": "light"
     },
     "output_type": "display_data"
    }
   ],
   "source": [
    "sns.countplot(data=df, x='origin', hue='status')"
   ]
  },
  {
   "cell_type": "code",
   "execution_count": 25,
   "id": "e57cebf9",
   "metadata": {},
   "outputs": [
    {
     "data": {
      "text/plain": [
       "<AxesSubplot:xlabel='origin', ylabel='log_used_distance'>"
      ]
     },
     "execution_count": 25,
     "metadata": {},
     "output_type": "execute_result"
    },
    {
     "data": {
      "image/png": "[encoded data removed]",
      "text/plain": [
       "<Figure size 432x288 with 1 Axes>"
      ]
     },
     "metadata": {
      "needs_background": "light"
     },
     "output_type": "display_data"
    }
   ],
   "source": [
    "sns.barplot(data=df, x='origin', y='log_used_distance', hue='status')"
   ]
  },
  {
   "cell_type": "code",
   "execution_count": 26,
   "id": "ef9107ae",
   "metadata": {},
   "outputs": [
    {
     "data": {
      "text/plain": [
       "<AxesSubplot:xlabel='origin', ylabel='log_price_vnd'>"
      ]
     },
     "execution_count": 26,
     "metadata": {},
     "output_type": "execute_result"
    },
    {
     "data": {
      "image/png": "[encoded data removed]",
      "text/plain": [
       "<Figure size 432x288 with 1 Axes>"
      ]
     },
     "metadata": {
      "needs_background": "light"
     },
     "output_type": "display_data"
    }
   ],
   "source": [
    "sns.violinplot(data=df, x='origin', y='log_price_vnd', hue='status')"
   ]
  },
  {
   "cell_type": "markdown",
   "id": "5ef6a56b",
   "metadata": {},
   "source": [
    "#### Màu sắc"
   ]
  },
  {
   "cell_type": "code",
   "execution_count": 27,
   "id": "7c1bfdd0",
   "metadata": {},
   "outputs": [
    {
     "data": {
      "text/plain": [
       "<AxesSubplot:xlabel='in_color', ylabel='out_color'>"
      ]
     },
     "execution_count": 27,
     "metadata": {},
     "output_type": "execute_result"
    },
    {
     "data": {
      "image/png": "[encoded data removed]",
      "text/plain": [
       "<Figure size 936x792 with 2 Axes>"
      ]
     },
     "metadata": {
      "needs_background": "light"
     },
     "output_type": "display_data"
    }
   ],
   "source": [
    "correlation_by_in_out_col = df.groupby(['in_color', 'out_color']).count()['url']\n",
    "\n",
    "correlation_matrix = correlation_by_in_out_col.unstack('in_color').fillna(0).astype(int)\n",
    "\n",
    "f, ax = plt.subplots(figsize=(13, 11))\n",
    "sns.heatmap(correlation_matrix, annot=True, fmt=\"d\", linewidths=.5, ax=ax)"
   ]
  },
  {
   "cell_type": "markdown",
   "id": "fd7f3d8c",
   "metadata": {},
   "source": [
    "#### Số cửa\n",
    "\n",
    "Có thể khá chắc chắn thông tin về số cửa quan hệ 1-1 với serie xe. Sai có thể do người dùng nhầm (xe 4, 5 cửa) khá giống nhau\n",
    "\n",
    "Tương tự với num_seat"
   ]
  },
  {
   "cell_type": "markdown",
   "id": "fe888814",
   "metadata": {},
   "source": [
    "##### Phân tích về số cửa"
   ]
  },
  {
   "cell_type": "code",
   "execution_count": 28,
   "id": "4ef481dd",
   "metadata": {
    "scrolled": false
   },
   "outputs": [],
   "source": [
    "correlation_by_in_out_col = df.groupby(['serie', 'num_door']).count()['url']\n",
    "\n",
    "correlation_matrix = correlation_by_in_out_col.unstack('num_door').fillna(0).astype(int)\n",
    "\n",
    "not_1_1_relationship_idx = []\n",
    "\n",
    "for index, row in correlation_matrix.iterrows():\n",
    "    if len(row[row > 0]) > 1:\n",
    "        not_1_1_relationship_idx.append(index)"
   ]
  },
  {
   "cell_type": "code",
   "execution_count": 29,
   "id": "eee0d2b7",
   "metadata": {},
   "outputs": [
    {
     "data": {
      "text/html": [
       "<div>\n",
       "<style scoped>\n",
       "    .dataframe tbody tr th:only-of-type {\n",
       "        vertical-align: middle;\n",
       "    }\n",
       "\n",
       "    .dataframe tbody tr th {\n",
       "        vertical-align: top;\n",
       "    }\n",
       "\n",
       "    .dataframe thead th {\n",
       "        text-align: right;\n",
       "    }\n",
       "</style>\n",
       "<table border=\"1\" class=\"dataframe\">\n",
       "  <thead>\n",
       "    <tr style=\"text-align: right;\">\n",
       "      <th>num_door</th>\n",
       "      <th>0</th>\n",
       "      <th>1</th>\n",
       "      <th>2</th>\n",
       "      <th>3</th>\n",
       "      <th>4</th>\n",
       "      <th>5</th>\n",
       "      <th>6</th>\n",
       "      <th>7</th>\n",
       "      <th>8</th>\n",
       "      <th>40</th>\n",
       "      <th>45</th>\n",
       "      <th>50</th>\n",
       "      <th>54</th>\n",
       "      <th>55</th>\n",
       "      <th>56</th>\n",
       "    </tr>\n",
       "    <tr>\n",
       "      <th>serie</th>\n",
       "      <th></th>\n",
       "      <th></th>\n",
       "      <th></th>\n",
       "      <th></th>\n",
       "      <th></th>\n",
       "      <th></th>\n",
       "      <th></th>\n",
       "      <th></th>\n",
       "      <th></th>\n",
       "      <th></th>\n",
       "      <th></th>\n",
       "      <th></th>\n",
       "      <th></th>\n",
       "      <th></th>\n",
       "      <th></th>\n",
       "    </tr>\n",
       "  </thead>\n",
       "  <tbody>\n",
       "    <tr>\n",
       "      <th>2</th>\n",
       "      <td>0</td>\n",
       "      <td>0</td>\n",
       "      <td>0</td>\n",
       "      <td>0</td>\n",
       "      <td>154</td>\n",
       "      <td>72</td>\n",
       "      <td>0</td>\n",
       "      <td>0</td>\n",
       "      <td>0</td>\n",
       "      <td>0</td>\n",
       "      <td>0</td>\n",
       "      <td>0</td>\n",
       "      <td>0</td>\n",
       "      <td>0</td>\n",
       "      <td>0</td>\n",
       "    </tr>\n",
       "    <tr>\n",
       "      <th>2008</th>\n",
       "      <td>0</td>\n",
       "      <td>0</td>\n",
       "      <td>0</td>\n",
       "      <td>0</td>\n",
       "      <td>3</td>\n",
       "      <td>49</td>\n",
       "      <td>0</td>\n",
       "      <td>0</td>\n",
       "      <td>0</td>\n",
       "      <td>0</td>\n",
       "      <td>0</td>\n",
       "      <td>0</td>\n",
       "      <td>0</td>\n",
       "      <td>0</td>\n",
       "      <td>0</td>\n",
       "    </tr>\n",
       "    <tr>\n",
       "      <th>208</th>\n",
       "      <td>0</td>\n",
       "      <td>0</td>\n",
       "      <td>0</td>\n",
       "      <td>0</td>\n",
       "      <td>1</td>\n",
       "      <td>8</td>\n",
       "      <td>0</td>\n",
       "      <td>0</td>\n",
       "      <td>0</td>\n",
       "      <td>0</td>\n",
       "      <td>0</td>\n",
       "      <td>0</td>\n",
       "      <td>0</td>\n",
       "      <td>0</td>\n",
       "      <td>0</td>\n",
       "    </tr>\n",
       "    <tr>\n",
       "      <th>3</th>\n",
       "      <td>0</td>\n",
       "      <td>0</td>\n",
       "      <td>0</td>\n",
       "      <td>0</td>\n",
       "      <td>732</td>\n",
       "      <td>176</td>\n",
       "      <td>0</td>\n",
       "      <td>0</td>\n",
       "      <td>0</td>\n",
       "      <td>0</td>\n",
       "      <td>0</td>\n",
       "      <td>0</td>\n",
       "      <td>0</td>\n",
       "      <td>0</td>\n",
       "      <td>0</td>\n",
       "    </tr>\n",
       "    <tr>\n",
       "      <th>3 Series</th>\n",
       "      <td>0</td>\n",
       "      <td>0</td>\n",
       "      <td>9</td>\n",
       "      <td>0</td>\n",
       "      <td>229</td>\n",
       "      <td>2</td>\n",
       "      <td>0</td>\n",
       "      <td>0</td>\n",
       "      <td>0</td>\n",
       "      <td>0</td>\n",
       "      <td>0</td>\n",
       "      <td>0</td>\n",
       "      <td>0</td>\n",
       "      <td>0</td>\n",
       "      <td>0</td>\n",
       "    </tr>\n",
       "    <tr>\n",
       "      <th>3008</th>\n",
       "      <td>0</td>\n",
       "      <td>0</td>\n",
       "      <td>0</td>\n",
       "      <td>0</td>\n",
       "      <td>1</td>\n",
       "      <td>95</td>\n",
       "      <td>0</td>\n",
       "      <td>0</td>\n",
       "      <td>0</td>\n",
       "      <td>0</td>\n",
       "      <td>0</td>\n",
       "      <td>0</td>\n",
       "      <td>0</td>\n",
       "      <td>0</td>\n",
       "      <td>0</td>\n",
       "    </tr>\n",
       "    <tr>\n",
       "      <th>323</th>\n",
       "      <td>0</td>\n",
       "      <td>0</td>\n",
       "      <td>0</td>\n",
       "      <td>0</td>\n",
       "      <td>58</td>\n",
       "      <td>1</td>\n",
       "      <td>0</td>\n",
       "      <td>0</td>\n",
       "      <td>0</td>\n",
       "      <td>0</td>\n",
       "      <td>0</td>\n",
       "      <td>0</td>\n",
       "      <td>0</td>\n",
       "      <td>0</td>\n",
       "      <td>0</td>\n",
       "    </tr>\n",
       "    <tr>\n",
       "      <th>4 Series</th>\n",
       "      <td>0</td>\n",
       "      <td>0</td>\n",
       "      <td>10</td>\n",
       "      <td>0</td>\n",
       "      <td>13</td>\n",
       "      <td>0</td>\n",
       "      <td>0</td>\n",
       "      <td>0</td>\n",
       "      <td>0</td>\n",
       "      <td>0</td>\n",
       "      <td>0</td>\n",
       "      <td>0</td>\n",
       "      <td>0</td>\n",
       "      <td>0</td>\n",
       "      <td>0</td>\n",
       "    </tr>\n",
       "    <tr>\n",
       "      <th>405</th>\n",
       "      <td>0</td>\n",
       "      <td>0</td>\n",
       "      <td>0</td>\n",
       "      <td>0</td>\n",
       "      <td>3</td>\n",
       "      <td>1</td>\n",
       "      <td>0</td>\n",
       "      <td>0</td>\n",
       "      <td>0</td>\n",
       "      <td>0</td>\n",
       "      <td>0</td>\n",
       "      <td>0</td>\n",
       "      <td>0</td>\n",
       "      <td>0</td>\n",
       "      <td>0</td>\n",
       "    </tr>\n",
       "    <tr>\n",
       "      <th>5 Series</th>\n",
       "      <td>0</td>\n",
       "      <td>0</td>\n",
       "      <td>0</td>\n",
       "      <td>0</td>\n",
       "      <td>170</td>\n",
       "      <td>4</td>\n",
       "      <td>0</td>\n",
       "      <td>0</td>\n",
       "      <td>0</td>\n",
       "      <td>0</td>\n",
       "      <td>0</td>\n",
       "      <td>0</td>\n",
       "      <td>0</td>\n",
       "      <td>0</td>\n",
       "      <td>0</td>\n",
       "    </tr>\n",
       "    <tr>\n",
       "      <th>500</th>\n",
       "      <td>0</td>\n",
       "      <td>0</td>\n",
       "      <td>2</td>\n",
       "      <td>3</td>\n",
       "      <td>0</td>\n",
       "      <td>1</td>\n",
       "      <td>0</td>\n",
       "      <td>0</td>\n",
       "      <td>0</td>\n",
       "      <td>0</td>\n",
       "      <td>0</td>\n",
       "      <td>0</td>\n",
       "      <td>0</td>\n",
       "      <td>0</td>\n",
       "      <td>0</td>\n",
       "    </tr>\n",
       "    <tr>\n",
       "      <th>6</th>\n",
       "      <td>0</td>\n",
       "      <td>0</td>\n",
       "      <td>0</td>\n",
       "      <td>0</td>\n",
       "      <td>270</td>\n",
       "      <td>2</td>\n",
       "      <td>0</td>\n",
       "      <td>0</td>\n",
       "      <td>0</td>\n",
       "      <td>0</td>\n",
       "      <td>0</td>\n",
       "      <td>0</td>\n",
       "      <td>0</td>\n",
       "      <td>0</td>\n",
       "      <td>0</td>\n",
       "    </tr>\n",
       "    <tr>\n",
       "      <th>7 Series</th>\n",
       "      <td>0</td>\n",
       "      <td>0</td>\n",
       "      <td>0</td>\n",
       "      <td>0</td>\n",
       "      <td>75</td>\n",
       "      <td>2</td>\n",
       "      <td>0</td>\n",
       "      <td>0</td>\n",
       "      <td>0</td>\n",
       "      <td>0</td>\n",
       "      <td>0</td>\n",
       "      <td>0</td>\n",
       "      <td>0</td>\n",
       "      <td>0</td>\n",
       "      <td>0</td>\n",
       "    </tr>\n",
       "    <tr>\n",
       "      <th>911</th>\n",
       "      <td>0</td>\n",
       "      <td>0</td>\n",
       "      <td>10</td>\n",
       "      <td>1</td>\n",
       "      <td>0</td>\n",
       "      <td>0</td>\n",
       "      <td>0</td>\n",
       "      <td>0</td>\n",
       "      <td>0</td>\n",
       "      <td>0</td>\n",
       "      <td>0</td>\n",
       "      <td>0</td>\n",
       "      <td>0</td>\n",
       "      <td>0</td>\n",
       "      <td>0</td>\n",
       "    </tr>\n",
       "    <tr>\n",
       "      <th>A class</th>\n",
       "      <td>0</td>\n",
       "      <td>0</td>\n",
       "      <td>0</td>\n",
       "      <td>0</td>\n",
       "      <td>11</td>\n",
       "      <td>13</td>\n",
       "      <td>0</td>\n",
       "      <td>0</td>\n",
       "      <td>0</td>\n",
       "      <td>0</td>\n",
       "      <td>0</td>\n",
       "      <td>0</td>\n",
       "      <td>0</td>\n",
       "      <td>0</td>\n",
       "      <td>0</td>\n",
       "    </tr>\n",
       "    <tr>\n",
       "      <th>A1</th>\n",
       "      <td>0</td>\n",
       "      <td>0</td>\n",
       "      <td>0</td>\n",
       "      <td>6</td>\n",
       "      <td>0</td>\n",
       "      <td>3</td>\n",
       "      <td>0</td>\n",
       "      <td>0</td>\n",
       "      <td>0</td>\n",
       "      <td>0</td>\n",
       "      <td>0</td>\n",
       "      <td>0</td>\n",
       "      <td>0</td>\n",
       "      <td>0</td>\n",
       "      <td>0</td>\n",
       "    </tr>\n",
       "    <tr>\n",
       "      <th>A2</th>\n",
       "      <td>0</td>\n",
       "      <td>0</td>\n",
       "      <td>6</td>\n",
       "      <td>0</td>\n",
       "      <td>1</td>\n",
       "      <td>1</td>\n",
       "      <td>0</td>\n",
       "      <td>0</td>\n",
       "      <td>0</td>\n",
       "      <td>0</td>\n",
       "      <td>0</td>\n",
       "      <td>0</td>\n",
       "      <td>0</td>\n",
       "      <td>0</td>\n",
       "      <td>0</td>\n",
       "    </tr>\n",
       "    <tr>\n",
       "      <th>A4</th>\n",
       "      <td>0</td>\n",
       "      <td>0</td>\n",
       "      <td>0</td>\n",
       "      <td>0</td>\n",
       "      <td>33</td>\n",
       "      <td>2</td>\n",
       "      <td>0</td>\n",
       "      <td>0</td>\n",
       "      <td>0</td>\n",
       "      <td>0</td>\n",
       "      <td>0</td>\n",
       "      <td>0</td>\n",
       "      <td>0</td>\n",
       "      <td>0</td>\n",
       "      <td>0</td>\n",
       "    </tr>\n",
       "    <tr>\n",
       "      <th>A5</th>\n",
       "      <td>0</td>\n",
       "      <td>0</td>\n",
       "      <td>1</td>\n",
       "      <td>0</td>\n",
       "      <td>10</td>\n",
       "      <td>1</td>\n",
       "      <td>0</td>\n",
       "      <td>0</td>\n",
       "      <td>0</td>\n",
       "      <td>0</td>\n",
       "      <td>0</td>\n",
       "      <td>0</td>\n",
       "      <td>0</td>\n",
       "      <td>0</td>\n",
       "      <td>0</td>\n",
       "    </tr>\n",
       "    <tr>\n",
       "      <th>A6</th>\n",
       "      <td>0</td>\n",
       "      <td>0</td>\n",
       "      <td>0</td>\n",
       "      <td>0</td>\n",
       "      <td>38</td>\n",
       "      <td>1</td>\n",
       "      <td>0</td>\n",
       "      <td>0</td>\n",
       "      <td>0</td>\n",
       "      <td>0</td>\n",
       "      <td>0</td>\n",
       "      <td>0</td>\n",
       "      <td>0</td>\n",
       "      <td>0</td>\n",
       "      <td>0</td>\n",
       "    </tr>\n",
       "  </tbody>\n",
       "</table>\n",
       "</div>"
      ],
      "text/plain": [
       "num_door  0   1   2   3    4    5   6   7   8   40  45  50  54  55  56\n",
       "serie                                                                 \n",
       "2          0   0   0   0  154   72   0   0   0   0   0   0   0   0   0\n",
       "2008       0   0   0   0    3   49   0   0   0   0   0   0   0   0   0\n",
       "208        0   0   0   0    1    8   0   0   0   0   0   0   0   0   0\n",
       "3          0   0   0   0  732  176   0   0   0   0   0   0   0   0   0\n",
       "3 Series   0   0   9   0  229    2   0   0   0   0   0   0   0   0   0\n",
       "3008       0   0   0   0    1   95   0   0   0   0   0   0   0   0   0\n",
       "323        0   0   0   0   58    1   0   0   0   0   0   0   0   0   0\n",
       "4 Series   0   0  10   0   13    0   0   0   0   0   0   0   0   0   0\n",
       "405        0   0   0   0    3    1   0   0   0   0   0   0   0   0   0\n",
       "5 Series   0   0   0   0  170    4   0   0   0   0   0   0   0   0   0\n",
       "500        0   0   2   3    0    1   0   0   0   0   0   0   0   0   0\n",
       "6          0   0   0   0  270    2   0   0   0   0   0   0   0   0   0\n",
       "7 Series   0   0   0   0   75    2   0   0   0   0   0   0   0   0   0\n",
       "911        0   0  10   1    0    0   0   0   0   0   0   0   0   0   0\n",
       "A class    0   0   0   0   11   13   0   0   0   0   0   0   0   0   0\n",
       "A1         0   0   0   6    0    3   0   0   0   0   0   0   0   0   0\n",
       "A2         0   0   6   0    1    1   0   0   0   0   0   0   0   0   0\n",
       "A4         0   0   0   0   33    2   0   0   0   0   0   0   0   0   0\n",
       "A5         0   0   1   0   10    1   0   0   0   0   0   0   0   0   0\n",
       "A6         0   0   0   0   38    1   0   0   0   0   0   0   0   0   0"
      ]
     },
     "execution_count": 29,
     "metadata": {},
     "output_type": "execute_result"
    }
   ],
   "source": [
    "correlation_matrix[correlation_matrix.index.isin(not_1_1_relationship_idx)][0:20]"
   ]
  },
  {
   "cell_type": "markdown",
   "id": "9c1cc6ed",
   "metadata": {},
   "source": [
    "##### Phân tích num_seat"
   ]
  },
  {
   "cell_type": "code",
   "execution_count": 30,
   "id": "ff2ddd8f",
   "metadata": {},
   "outputs": [
    {
     "data": {
      "text/html": [
       "<div>\n",
       "<style scoped>\n",
       "    .dataframe tbody tr th:only-of-type {\n",
       "        vertical-align: middle;\n",
       "    }\n",
       "\n",
       "    .dataframe tbody tr th {\n",
       "        vertical-align: top;\n",
       "    }\n",
       "\n",
       "    .dataframe thead th {\n",
       "        text-align: right;\n",
       "    }\n",
       "</style>\n",
       "<table border=\"1\" class=\"dataframe\">\n",
       "  <thead>\n",
       "    <tr style=\"text-align: right;\">\n",
       "      <th>num_seat</th>\n",
       "      <th>0</th>\n",
       "      <th>1</th>\n",
       "      <th>2</th>\n",
       "      <th>3</th>\n",
       "      <th>4</th>\n",
       "      <th>5</th>\n",
       "      <th>6</th>\n",
       "      <th>7</th>\n",
       "      <th>8</th>\n",
       "      <th>9</th>\n",
       "      <th>...</th>\n",
       "      <th>34</th>\n",
       "      <th>35</th>\n",
       "      <th>38</th>\n",
       "      <th>39</th>\n",
       "      <th>40</th>\n",
       "      <th>41</th>\n",
       "      <th>44</th>\n",
       "      <th>45</th>\n",
       "      <th>46</th>\n",
       "      <th>47</th>\n",
       "    </tr>\n",
       "    <tr>\n",
       "      <th>serie</th>\n",
       "      <th></th>\n",
       "      <th></th>\n",
       "      <th></th>\n",
       "      <th></th>\n",
       "      <th></th>\n",
       "      <th></th>\n",
       "      <th></th>\n",
       "      <th></th>\n",
       "      <th></th>\n",
       "      <th></th>\n",
       "      <th></th>\n",
       "      <th></th>\n",
       "      <th></th>\n",
       "      <th></th>\n",
       "      <th></th>\n",
       "      <th></th>\n",
       "      <th></th>\n",
       "      <th></th>\n",
       "      <th></th>\n",
       "      <th></th>\n",
       "      <th></th>\n",
       "    </tr>\n",
       "  </thead>\n",
       "  <tbody>\n",
       "    <tr>\n",
       "      <th>1200B</th>\n",
       "      <td>0</td>\n",
       "      <td>0</td>\n",
       "      <td>1</td>\n",
       "      <td>1</td>\n",
       "      <td>0</td>\n",
       "      <td>0</td>\n",
       "      <td>0</td>\n",
       "      <td>0</td>\n",
       "      <td>0</td>\n",
       "      <td>0</td>\n",
       "      <td>...</td>\n",
       "      <td>0</td>\n",
       "      <td>0</td>\n",
       "      <td>0</td>\n",
       "      <td>0</td>\n",
       "      <td>0</td>\n",
       "      <td>0</td>\n",
       "      <td>0</td>\n",
       "      <td>0</td>\n",
       "      <td>0</td>\n",
       "      <td>0</td>\n",
       "    </tr>\n",
       "    <tr>\n",
       "      <th>1240T</th>\n",
       "      <td>0</td>\n",
       "      <td>0</td>\n",
       "      <td>2</td>\n",
       "      <td>2</td>\n",
       "      <td>0</td>\n",
       "      <td>0</td>\n",
       "      <td>0</td>\n",
       "      <td>0</td>\n",
       "      <td>0</td>\n",
       "      <td>0</td>\n",
       "      <td>...</td>\n",
       "      <td>0</td>\n",
       "      <td>0</td>\n",
       "      <td>0</td>\n",
       "      <td>0</td>\n",
       "      <td>0</td>\n",
       "      <td>0</td>\n",
       "      <td>0</td>\n",
       "      <td>0</td>\n",
       "      <td>0</td>\n",
       "      <td>0</td>\n",
       "    </tr>\n",
       "    <tr>\n",
       "      <th>2 Series</th>\n",
       "      <td>0</td>\n",
       "      <td>0</td>\n",
       "      <td>0</td>\n",
       "      <td>0</td>\n",
       "      <td>0</td>\n",
       "      <td>3</td>\n",
       "      <td>0</td>\n",
       "      <td>3</td>\n",
       "      <td>0</td>\n",
       "      <td>0</td>\n",
       "      <td>...</td>\n",
       "      <td>0</td>\n",
       "      <td>0</td>\n",
       "      <td>0</td>\n",
       "      <td>0</td>\n",
       "      <td>0</td>\n",
       "      <td>0</td>\n",
       "      <td>0</td>\n",
       "      <td>0</td>\n",
       "      <td>0</td>\n",
       "      <td>0</td>\n",
       "    </tr>\n",
       "    <tr>\n",
       "      <th>3</th>\n",
       "      <td>1</td>\n",
       "      <td>0</td>\n",
       "      <td>0</td>\n",
       "      <td>0</td>\n",
       "      <td>1</td>\n",
       "      <td>906</td>\n",
       "      <td>0</td>\n",
       "      <td>0</td>\n",
       "      <td>0</td>\n",
       "      <td>0</td>\n",
       "      <td>...</td>\n",
       "      <td>0</td>\n",
       "      <td>0</td>\n",
       "      <td>0</td>\n",
       "      <td>0</td>\n",
       "      <td>0</td>\n",
       "      <td>0</td>\n",
       "      <td>0</td>\n",
       "      <td>0</td>\n",
       "      <td>0</td>\n",
       "      <td>0</td>\n",
       "    </tr>\n",
       "    <tr>\n",
       "      <th>3 Series</th>\n",
       "      <td>0</td>\n",
       "      <td>0</td>\n",
       "      <td>0</td>\n",
       "      <td>0</td>\n",
       "      <td>8</td>\n",
       "      <td>232</td>\n",
       "      <td>0</td>\n",
       "      <td>0</td>\n",
       "      <td>0</td>\n",
       "      <td>0</td>\n",
       "      <td>...</td>\n",
       "      <td>0</td>\n",
       "      <td>0</td>\n",
       "      <td>0</td>\n",
       "      <td>0</td>\n",
       "      <td>0</td>\n",
       "      <td>0</td>\n",
       "      <td>0</td>\n",
       "      <td>0</td>\n",
       "      <td>0</td>\n",
       "      <td>0</td>\n",
       "    </tr>\n",
       "    <tr>\n",
       "      <th>3008</th>\n",
       "      <td>0</td>\n",
       "      <td>0</td>\n",
       "      <td>0</td>\n",
       "      <td>0</td>\n",
       "      <td>1</td>\n",
       "      <td>95</td>\n",
       "      <td>0</td>\n",
       "      <td>0</td>\n",
       "      <td>0</td>\n",
       "      <td>0</td>\n",
       "      <td>...</td>\n",
       "      <td>0</td>\n",
       "      <td>0</td>\n",
       "      <td>0</td>\n",
       "      <td>0</td>\n",
       "      <td>0</td>\n",
       "      <td>0</td>\n",
       "      <td>0</td>\n",
       "      <td>0</td>\n",
       "      <td>0</td>\n",
       "      <td>0</td>\n",
       "    </tr>\n",
       "    <tr>\n",
       "      <th>4 Series</th>\n",
       "      <td>0</td>\n",
       "      <td>0</td>\n",
       "      <td>0</td>\n",
       "      <td>0</td>\n",
       "      <td>11</td>\n",
       "      <td>12</td>\n",
       "      <td>0</td>\n",
       "      <td>0</td>\n",
       "      <td>0</td>\n",
       "      <td>0</td>\n",
       "      <td>...</td>\n",
       "      <td>0</td>\n",
       "      <td>0</td>\n",
       "      <td>0</td>\n",
       "      <td>0</td>\n",
       "      <td>0</td>\n",
       "      <td>0</td>\n",
       "      <td>0</td>\n",
       "      <td>0</td>\n",
       "      <td>0</td>\n",
       "      <td>0</td>\n",
       "    </tr>\n",
       "    <tr>\n",
       "      <th>405</th>\n",
       "      <td>0</td>\n",
       "      <td>0</td>\n",
       "      <td>0</td>\n",
       "      <td>0</td>\n",
       "      <td>1</td>\n",
       "      <td>3</td>\n",
       "      <td>0</td>\n",
       "      <td>0</td>\n",
       "      <td>0</td>\n",
       "      <td>0</td>\n",
       "      <td>...</td>\n",
       "      <td>0</td>\n",
       "      <td>0</td>\n",
       "      <td>0</td>\n",
       "      <td>0</td>\n",
       "      <td>0</td>\n",
       "      <td>0</td>\n",
       "      <td>0</td>\n",
       "      <td>0</td>\n",
       "      <td>0</td>\n",
       "      <td>0</td>\n",
       "    </tr>\n",
       "    <tr>\n",
       "      <th>6 Series</th>\n",
       "      <td>0</td>\n",
       "      <td>0</td>\n",
       "      <td>0</td>\n",
       "      <td>0</td>\n",
       "      <td>1</td>\n",
       "      <td>5</td>\n",
       "      <td>0</td>\n",
       "      <td>0</td>\n",
       "      <td>0</td>\n",
       "      <td>0</td>\n",
       "      <td>...</td>\n",
       "      <td>0</td>\n",
       "      <td>0</td>\n",
       "      <td>0</td>\n",
       "      <td>0</td>\n",
       "      <td>0</td>\n",
       "      <td>0</td>\n",
       "      <td>0</td>\n",
       "      <td>0</td>\n",
       "      <td>0</td>\n",
       "      <td>0</td>\n",
       "    </tr>\n",
       "    <tr>\n",
       "      <th>A1</th>\n",
       "      <td>0</td>\n",
       "      <td>0</td>\n",
       "      <td>0</td>\n",
       "      <td>0</td>\n",
       "      <td>8</td>\n",
       "      <td>1</td>\n",
       "      <td>0</td>\n",
       "      <td>0</td>\n",
       "      <td>0</td>\n",
       "      <td>0</td>\n",
       "      <td>...</td>\n",
       "      <td>0</td>\n",
       "      <td>0</td>\n",
       "      <td>0</td>\n",
       "      <td>0</td>\n",
       "      <td>0</td>\n",
       "      <td>0</td>\n",
       "      <td>0</td>\n",
       "      <td>0</td>\n",
       "      <td>0</td>\n",
       "      <td>0</td>\n",
       "    </tr>\n",
       "    <tr>\n",
       "      <th>A2</th>\n",
       "      <td>0</td>\n",
       "      <td>0</td>\n",
       "      <td>0</td>\n",
       "      <td>0</td>\n",
       "      <td>3</td>\n",
       "      <td>5</td>\n",
       "      <td>0</td>\n",
       "      <td>0</td>\n",
       "      <td>0</td>\n",
       "      <td>0</td>\n",
       "      <td>...</td>\n",
       "      <td>0</td>\n",
       "      <td>0</td>\n",
       "      <td>0</td>\n",
       "      <td>0</td>\n",
       "      <td>0</td>\n",
       "      <td>0</td>\n",
       "      <td>0</td>\n",
       "      <td>0</td>\n",
       "      <td>0</td>\n",
       "      <td>0</td>\n",
       "    </tr>\n",
       "    <tr>\n",
       "      <th>A5</th>\n",
       "      <td>0</td>\n",
       "      <td>0</td>\n",
       "      <td>0</td>\n",
       "      <td>0</td>\n",
       "      <td>3</td>\n",
       "      <td>9</td>\n",
       "      <td>0</td>\n",
       "      <td>0</td>\n",
       "      <td>0</td>\n",
       "      <td>0</td>\n",
       "      <td>...</td>\n",
       "      <td>0</td>\n",
       "      <td>0</td>\n",
       "      <td>0</td>\n",
       "      <td>0</td>\n",
       "      <td>0</td>\n",
       "      <td>0</td>\n",
       "      <td>0</td>\n",
       "      <td>0</td>\n",
       "      <td>0</td>\n",
       "      <td>0</td>\n",
       "    </tr>\n",
       "    <tr>\n",
       "      <th>AMG GT</th>\n",
       "      <td>0</td>\n",
       "      <td>0</td>\n",
       "      <td>0</td>\n",
       "      <td>0</td>\n",
       "      <td>1</td>\n",
       "      <td>1</td>\n",
       "      <td>0</td>\n",
       "      <td>0</td>\n",
       "      <td>0</td>\n",
       "      <td>0</td>\n",
       "      <td>...</td>\n",
       "      <td>0</td>\n",
       "      <td>0</td>\n",
       "      <td>0</td>\n",
       "      <td>0</td>\n",
       "      <td>0</td>\n",
       "      <td>0</td>\n",
       "      <td>0</td>\n",
       "      <td>0</td>\n",
       "      <td>0</td>\n",
       "      <td>0</td>\n",
       "    </tr>\n",
       "    <tr>\n",
       "      <th>APV</th>\n",
       "      <td>0</td>\n",
       "      <td>0</td>\n",
       "      <td>0</td>\n",
       "      <td>0</td>\n",
       "      <td>0</td>\n",
       "      <td>0</td>\n",
       "      <td>0</td>\n",
       "      <td>2</td>\n",
       "      <td>9</td>\n",
       "      <td>0</td>\n",
       "      <td>...</td>\n",
       "      <td>0</td>\n",
       "      <td>0</td>\n",
       "      <td>0</td>\n",
       "      <td>0</td>\n",
       "      <td>0</td>\n",
       "      <td>0</td>\n",
       "      <td>0</td>\n",
       "      <td>0</td>\n",
       "      <td>0</td>\n",
       "      <td>0</td>\n",
       "    </tr>\n",
       "    <tr>\n",
       "      <th>Auman</th>\n",
       "      <td>0</td>\n",
       "      <td>0</td>\n",
       "      <td>1</td>\n",
       "      <td>1</td>\n",
       "      <td>0</td>\n",
       "      <td>0</td>\n",
       "      <td>0</td>\n",
       "      <td>0</td>\n",
       "      <td>0</td>\n",
       "      <td>0</td>\n",
       "      <td>...</td>\n",
       "      <td>0</td>\n",
       "      <td>0</td>\n",
       "      <td>0</td>\n",
       "      <td>0</td>\n",
       "      <td>0</td>\n",
       "      <td>0</td>\n",
       "      <td>0</td>\n",
       "      <td>0</td>\n",
       "      <td>0</td>\n",
       "      <td>0</td>\n",
       "    </tr>\n",
       "    <tr>\n",
       "      <th>Bentayga</th>\n",
       "      <td>0</td>\n",
       "      <td>0</td>\n",
       "      <td>0</td>\n",
       "      <td>0</td>\n",
       "      <td>1</td>\n",
       "      <td>33</td>\n",
       "      <td>0</td>\n",
       "      <td>0</td>\n",
       "      <td>0</td>\n",
       "      <td>0</td>\n",
       "      <td>...</td>\n",
       "      <td>0</td>\n",
       "      <td>0</td>\n",
       "      <td>0</td>\n",
       "      <td>0</td>\n",
       "      <td>0</td>\n",
       "      <td>0</td>\n",
       "      <td>0</td>\n",
       "      <td>0</td>\n",
       "      <td>0</td>\n",
       "      <td>0</td>\n",
       "    </tr>\n",
       "    <tr>\n",
       "      <th>Bluebird</th>\n",
       "      <td>0</td>\n",
       "      <td>0</td>\n",
       "      <td>0</td>\n",
       "      <td>0</td>\n",
       "      <td>2</td>\n",
       "      <td>9</td>\n",
       "      <td>0</td>\n",
       "      <td>0</td>\n",
       "      <td>0</td>\n",
       "      <td>0</td>\n",
       "      <td>...</td>\n",
       "      <td>0</td>\n",
       "      <td>0</td>\n",
       "      <td>0</td>\n",
       "      <td>0</td>\n",
       "      <td>0</td>\n",
       "      <td>0</td>\n",
       "      <td>0</td>\n",
       "      <td>0</td>\n",
       "      <td>0</td>\n",
       "      <td>0</td>\n",
       "    </tr>\n",
       "    <tr>\n",
       "      <th>C class</th>\n",
       "      <td>5</td>\n",
       "      <td>0</td>\n",
       "      <td>0</td>\n",
       "      <td>0</td>\n",
       "      <td>0</td>\n",
       "      <td>965</td>\n",
       "      <td>0</td>\n",
       "      <td>0</td>\n",
       "      <td>0</td>\n",
       "      <td>0</td>\n",
       "      <td>...</td>\n",
       "      <td>0</td>\n",
       "      <td>0</td>\n",
       "      <td>0</td>\n",
       "      <td>0</td>\n",
       "      <td>0</td>\n",
       "      <td>0</td>\n",
       "      <td>0</td>\n",
       "      <td>0</td>\n",
       "      <td>0</td>\n",
       "      <td>0</td>\n",
       "    </tr>\n",
       "    <tr>\n",
       "      <th>CRV</th>\n",
       "      <td>0</td>\n",
       "      <td>0</td>\n",
       "      <td>0</td>\n",
       "      <td>0</td>\n",
       "      <td>0</td>\n",
       "      <td>199</td>\n",
       "      <td>0</td>\n",
       "      <td>242</td>\n",
       "      <td>0</td>\n",
       "      <td>0</td>\n",
       "      <td>...</td>\n",
       "      <td>0</td>\n",
       "      <td>0</td>\n",
       "      <td>0</td>\n",
       "      <td>0</td>\n",
       "      <td>0</td>\n",
       "      <td>0</td>\n",
       "      <td>0</td>\n",
       "      <td>0</td>\n",
       "      <td>0</td>\n",
       "      <td>0</td>\n",
       "    </tr>\n",
       "    <tr>\n",
       "      <th>CX5</th>\n",
       "      <td>2</td>\n",
       "      <td>0</td>\n",
       "      <td>0</td>\n",
       "      <td>0</td>\n",
       "      <td>0</td>\n",
       "      <td>504</td>\n",
       "      <td>0</td>\n",
       "      <td>0</td>\n",
       "      <td>0</td>\n",
       "      <td>0</td>\n",
       "      <td>...</td>\n",
       "      <td>0</td>\n",
       "      <td>0</td>\n",
       "      <td>0</td>\n",
       "      <td>0</td>\n",
       "      <td>0</td>\n",
       "      <td>0</td>\n",
       "      <td>0</td>\n",
       "      <td>0</td>\n",
       "      <td>0</td>\n",
       "      <td>0</td>\n",
       "    </tr>\n",
       "  </tbody>\n",
       "</table>\n",
       "<p>20 rows × 31 columns</p>\n",
       "</div>"
      ],
      "text/plain": [
       "num_seat  0   1   2   3   4    5   6    7   8   9   ...  34  35  38  39  40  \\\n",
       "serie                                               ...                       \n",
       "1200B      0   0   1   1   0    0   0    0   0   0  ...   0   0   0   0   0   \n",
       "1240T      0   0   2   2   0    0   0    0   0   0  ...   0   0   0   0   0   \n",
       "2 Series   0   0   0   0   0    3   0    3   0   0  ...   0   0   0   0   0   \n",
       "3          1   0   0   0   1  906   0    0   0   0  ...   0   0   0   0   0   \n",
       "3 Series   0   0   0   0   8  232   0    0   0   0  ...   0   0   0   0   0   \n",
       "3008       0   0   0   0   1   95   0    0   0   0  ...   0   0   0   0   0   \n",
       "4 Series   0   0   0   0  11   12   0    0   0   0  ...   0   0   0   0   0   \n",
       "405        0   0   0   0   1    3   0    0   0   0  ...   0   0   0   0   0   \n",
       "6 Series   0   0   0   0   1    5   0    0   0   0  ...   0   0   0   0   0   \n",
       "A1         0   0   0   0   8    1   0    0   0   0  ...   0   0   0   0   0   \n",
       "A2         0   0   0   0   3    5   0    0   0   0  ...   0   0   0   0   0   \n",
       "A5         0   0   0   0   3    9   0    0   0   0  ...   0   0   0   0   0   \n",
       "AMG GT     0   0   0   0   1    1   0    0   0   0  ...   0   0   0   0   0   \n",
       "APV        0   0   0   0   0    0   0    2   9   0  ...   0   0   0   0   0   \n",
       "Auman      0   0   1   1   0    0   0    0   0   0  ...   0   0   0   0   0   \n",
       "Bentayga   0   0   0   0   1   33   0    0   0   0  ...   0   0   0   0   0   \n",
       "Bluebird   0   0   0   0   2    9   0    0   0   0  ...   0   0   0   0   0   \n",
       "C class    5   0   0   0   0  965   0    0   0   0  ...   0   0   0   0   0   \n",
       "CRV        0   0   0   0   0  199   0  242   0   0  ...   0   0   0   0   0   \n",
       "CX5        2   0   0   0   0  504   0    0   0   0  ...   0   0   0   0   0   \n",
       "\n",
       "num_seat  41  44  45  46  47  \n",
       "serie                         \n",
       "1200B      0   0   0   0   0  \n",
       "1240T      0   0   0   0   0  \n",
       "2 Series   0   0   0   0   0  \n",
       "3          0   0   0   0   0  \n",
       "3 Series   0   0   0   0   0  \n",
       "3008       0   0   0   0   0  \n",
       "4 Series   0   0   0   0   0  \n",
       "405        0   0   0   0   0  \n",
       "6 Series   0   0   0   0   0  \n",
       "A1         0   0   0   0   0  \n",
       "A2         0   0   0   0   0  \n",
       "A5         0   0   0   0   0  \n",
       "AMG GT     0   0   0   0   0  \n",
       "APV        0   0   0   0   0  \n",
       "Auman      0   0   0   0   0  \n",
       "Bentayga   0   0   0   0   0  \n",
       "Bluebird   0   0   0   0   0  \n",
       "C class    0   0   0   0   0  \n",
       "CRV        0   0   0   0   0  \n",
       "CX5        0   0   0   0   0  \n",
       "\n",
       "[20 rows x 31 columns]"
      ]
     },
     "execution_count": 30,
     "metadata": {},
     "output_type": "execute_result"
    }
   ],
   "source": [
    "correlation_by_in_out_col = df.groupby(['serie', 'num_seat']).count()['url']\n",
    "\n",
    "correlation_matrix = correlation_by_in_out_col.unstack('num_seat').fillna(0).astype(int)\n",
    "\n",
    "not_1_1_relationship_idx = []\n",
    "\n",
    "for index, row in correlation_matrix.iterrows():\n",
    "    if len(row[row > 0]) > 1:\n",
    "        not_1_1_relationship_idx.append(index)\n",
    "\n",
    "correlation_matrix[correlation_matrix.index.isin(not_1_1_relationship_idx)][0:20]"
   ]
  },
  {
   "cell_type": "markdown",
   "id": "58f0dcac",
   "metadata": {},
   "source": [
    "##### Phân tích về loại hộp số\n",
    "\n",
    "Loại hộp số có thể không chỉ phụ thuộc vào dòng xe, mà còn phụ thuộc vào dòng + đời xe -> không bỏ được trường này"
   ]
  },
  {
   "cell_type": "code",
   "execution_count": 31,
   "id": "e901051f",
   "metadata": {},
   "outputs": [
    {
     "data": {
      "text/html": [
       "<div>\n",
       "<style scoped>\n",
       "    .dataframe tbody tr th:only-of-type {\n",
       "        vertical-align: middle;\n",
       "    }\n",
       "\n",
       "    .dataframe tbody tr th {\n",
       "        vertical-align: top;\n",
       "    }\n",
       "\n",
       "    .dataframe thead th {\n",
       "        text-align: right;\n",
       "    }\n",
       "</style>\n",
       "<table border=\"1\" class=\"dataframe\">\n",
       "  <thead>\n",
       "    <tr style=\"text-align: right;\">\n",
       "      <th>gear_type</th>\n",
       "      <th>-</th>\n",
       "      <th>Số tay</th>\n",
       "      <th>Số tự động</th>\n",
       "    </tr>\n",
       "    <tr>\n",
       "      <th>serie</th>\n",
       "      <th></th>\n",
       "      <th></th>\n",
       "      <th></th>\n",
       "    </tr>\n",
       "  </thead>\n",
       "  <tbody>\n",
       "    <tr>\n",
       "      <th>2</th>\n",
       "      <td>0</td>\n",
       "      <td>1</td>\n",
       "      <td>225</td>\n",
       "    </tr>\n",
       "    <tr>\n",
       "      <th>3</th>\n",
       "      <td>0</td>\n",
       "      <td>4</td>\n",
       "      <td>904</td>\n",
       "    </tr>\n",
       "    <tr>\n",
       "      <th>3 Series</th>\n",
       "      <td>0</td>\n",
       "      <td>3</td>\n",
       "      <td>237</td>\n",
       "    </tr>\n",
       "    <tr>\n",
       "      <th>4 Runner</th>\n",
       "      <td>0</td>\n",
       "      <td>1</td>\n",
       "      <td>3</td>\n",
       "    </tr>\n",
       "    <tr>\n",
       "      <th>5 Series</th>\n",
       "      <td>0</td>\n",
       "      <td>4</td>\n",
       "      <td>170</td>\n",
       "    </tr>\n",
       "    <tr>\n",
       "      <th>6</th>\n",
       "      <td>0</td>\n",
       "      <td>21</td>\n",
       "      <td>251</td>\n",
       "    </tr>\n",
       "    <tr>\n",
       "      <th>APV</th>\n",
       "      <td>0</td>\n",
       "      <td>9</td>\n",
       "      <td>2</td>\n",
       "    </tr>\n",
       "    <tr>\n",
       "      <th>Accent</th>\n",
       "      <td>0</td>\n",
       "      <td>235</td>\n",
       "      <td>483</td>\n",
       "    </tr>\n",
       "    <tr>\n",
       "      <th>Accord</th>\n",
       "      <td>0</td>\n",
       "      <td>44</td>\n",
       "      <td>53</td>\n",
       "    </tr>\n",
       "    <tr>\n",
       "      <th>Almera</th>\n",
       "      <td>0</td>\n",
       "      <td>20</td>\n",
       "      <td>94</td>\n",
       "    </tr>\n",
       "    <tr>\n",
       "      <th>Attrage</th>\n",
       "      <td>0</td>\n",
       "      <td>97</td>\n",
       "      <td>135</td>\n",
       "    </tr>\n",
       "    <tr>\n",
       "      <th>Avante</th>\n",
       "      <td>0</td>\n",
       "      <td>33</td>\n",
       "      <td>43</td>\n",
       "    </tr>\n",
       "    <tr>\n",
       "      <th>Avanza</th>\n",
       "      <td>1</td>\n",
       "      <td>21</td>\n",
       "      <td>16</td>\n",
       "    </tr>\n",
       "    <tr>\n",
       "      <th>Aveo</th>\n",
       "      <td>0</td>\n",
       "      <td>79</td>\n",
       "      <td>43</td>\n",
       "    </tr>\n",
       "    <tr>\n",
       "      <th>BT50</th>\n",
       "      <td>0</td>\n",
       "      <td>40</td>\n",
       "      <td>124</td>\n",
       "    </tr>\n",
       "    <tr>\n",
       "      <th>Beetle</th>\n",
       "      <td>0</td>\n",
       "      <td>1</td>\n",
       "      <td>2</td>\n",
       "    </tr>\n",
       "    <tr>\n",
       "      <th>Bluebird</th>\n",
       "      <td>0</td>\n",
       "      <td>10</td>\n",
       "      <td>1</td>\n",
       "    </tr>\n",
       "    <tr>\n",
       "      <th>C class</th>\n",
       "      <td>1</td>\n",
       "      <td>6</td>\n",
       "      <td>963</td>\n",
       "    </tr>\n",
       "    <tr>\n",
       "      <th>Camry</th>\n",
       "      <td>0</td>\n",
       "      <td>149</td>\n",
       "      <td>902</td>\n",
       "    </tr>\n",
       "    <tr>\n",
       "      <th>Captiva</th>\n",
       "      <td>0</td>\n",
       "      <td>71</td>\n",
       "      <td>82</td>\n",
       "    </tr>\n",
       "  </tbody>\n",
       "</table>\n",
       "</div>"
      ],
      "text/plain": [
       "gear_type  -  Số tay  Số tự động\n",
       "serie                           \n",
       "2          0       1         225\n",
       "3          0       4         904\n",
       "3 Series   0       3         237\n",
       "4 Runner   0       1           3\n",
       "5 Series   0       4         170\n",
       "6          0      21         251\n",
       "APV        0       9           2\n",
       "Accent     0     235         483\n",
       "Accord     0      44          53\n",
       "Almera     0      20          94\n",
       "Attrage    0      97         135\n",
       "Avante     0      33          43\n",
       "Avanza     1      21          16\n",
       "Aveo       0      79          43\n",
       "BT50       0      40         124\n",
       "Beetle     0       1           2\n",
       "Bluebird   0      10           1\n",
       "C class    1       6         963\n",
       "Camry      0     149         902\n",
       "Captiva    0      71          82"
      ]
     },
     "execution_count": 31,
     "metadata": {},
     "output_type": "execute_result"
    }
   ],
   "source": [
    "correlation_by_in_out_col = df.groupby(['serie', 'gear_type']).count()['url']\n",
    "\n",
    "correlation_matrix = correlation_by_in_out_col.unstack('gear_type').fillna(0).astype(int)\n",
    "\n",
    "not_1_1_relationship_idx = []\n",
    "\n",
    "for index, row in correlation_matrix.iterrows():\n",
    "    if len(row[row > 0]) > 1:\n",
    "        not_1_1_relationship_idx.append(index)\n",
    "\n",
    "correlation_matrix[correlation_matrix.index.isin(not_1_1_relationship_idx)][0:20]"
   ]
  },
  {
   "cell_type": "markdown",
   "id": "68ec0370",
   "metadata": {},
   "source": [
    "##### Phân tích về loại dẫn động\n",
    "\n",
    "Thông tin này không quá chắc chắn -> hỏi thêm người hiểu rõ về xe"
   ]
  },
  {
   "cell_type": "code",
   "execution_count": 33,
   "id": "fb0cd827",
   "metadata": {},
   "outputs": [
    {
     "data": {
      "text/html": [
       "<div>\n",
       "<style scoped>\n",
       "    .dataframe tbody tr th:only-of-type {\n",
       "        vertical-align: middle;\n",
       "    }\n",
       "\n",
       "    .dataframe tbody tr th {\n",
       "        vertical-align: top;\n",
       "    }\n",
       "\n",
       "    .dataframe thead th {\n",
       "        text-align: right;\n",
       "    }\n",
       "</style>\n",
       "<table border=\"1\" class=\"dataframe\">\n",
       "  <thead>\n",
       "    <tr style=\"text-align: right;\">\n",
       "      <th>drive_type</th>\n",
       "      <th>-</th>\n",
       "      <th>4WD - Dẫn động 4 bánh</th>\n",
       "      <th>4WD hoặc AWD</th>\n",
       "      <th>AWD - 4 bánh toàn thời gian</th>\n",
       "      <th>FWD - Dẫn động cầu trước</th>\n",
       "      <th>RFD - Dẫn động cầu sau</th>\n",
       "    </tr>\n",
       "    <tr>\n",
       "      <th>serie</th>\n",
       "      <th></th>\n",
       "      <th></th>\n",
       "      <th></th>\n",
       "      <th></th>\n",
       "      <th></th>\n",
       "      <th></th>\n",
       "    </tr>\n",
       "  </thead>\n",
       "  <tbody>\n",
       "    <tr>\n",
       "      <th>3</th>\n",
       "      <td>1</td>\n",
       "      <td>0</td>\n",
       "      <td>0</td>\n",
       "      <td>0</td>\n",
       "      <td>907</td>\n",
       "      <td>0</td>\n",
       "    </tr>\n",
       "    <tr>\n",
       "      <th>3 Series</th>\n",
       "      <td>0</td>\n",
       "      <td>0</td>\n",
       "      <td>0</td>\n",
       "      <td>3</td>\n",
       "      <td>1</td>\n",
       "      <td>236</td>\n",
       "    </tr>\n",
       "    <tr>\n",
       "      <th>4 Runner</th>\n",
       "      <td>0</td>\n",
       "      <td>2</td>\n",
       "      <td>0</td>\n",
       "      <td>2</td>\n",
       "      <td>0</td>\n",
       "      <td>0</td>\n",
       "    </tr>\n",
       "    <tr>\n",
       "      <th>6</th>\n",
       "      <td>2</td>\n",
       "      <td>1</td>\n",
       "      <td>0</td>\n",
       "      <td>0</td>\n",
       "      <td>269</td>\n",
       "      <td>0</td>\n",
       "    </tr>\n",
       "    <tr>\n",
       "      <th>A class</th>\n",
       "      <td>0</td>\n",
       "      <td>0</td>\n",
       "      <td>0</td>\n",
       "      <td>10</td>\n",
       "      <td>14</td>\n",
       "      <td>0</td>\n",
       "    </tr>\n",
       "    <tr>\n",
       "      <th>A2</th>\n",
       "      <td>0</td>\n",
       "      <td>4</td>\n",
       "      <td>0</td>\n",
       "      <td>0</td>\n",
       "      <td>1</td>\n",
       "      <td>3</td>\n",
       "    </tr>\n",
       "    <tr>\n",
       "      <th>A4</th>\n",
       "      <td>1</td>\n",
       "      <td>0</td>\n",
       "      <td>0</td>\n",
       "      <td>5</td>\n",
       "      <td>29</td>\n",
       "      <td>0</td>\n",
       "    </tr>\n",
       "    <tr>\n",
       "      <th>A5</th>\n",
       "      <td>0</td>\n",
       "      <td>0</td>\n",
       "      <td>0</td>\n",
       "      <td>11</td>\n",
       "      <td>1</td>\n",
       "      <td>0</td>\n",
       "    </tr>\n",
       "    <tr>\n",
       "      <th>A6</th>\n",
       "      <td>0</td>\n",
       "      <td>0</td>\n",
       "      <td>0</td>\n",
       "      <td>2</td>\n",
       "      <td>37</td>\n",
       "      <td>0</td>\n",
       "    </tr>\n",
       "    <tr>\n",
       "      <th>A8</th>\n",
       "      <td>0</td>\n",
       "      <td>0</td>\n",
       "      <td>0</td>\n",
       "      <td>11</td>\n",
       "      <td>2</td>\n",
       "      <td>0</td>\n",
       "    </tr>\n",
       "    <tr>\n",
       "      <th>Avanza</th>\n",
       "      <td>1</td>\n",
       "      <td>0</td>\n",
       "      <td>0</td>\n",
       "      <td>0</td>\n",
       "      <td>0</td>\n",
       "      <td>37</td>\n",
       "    </tr>\n",
       "    <tr>\n",
       "      <th>BT50</th>\n",
       "      <td>0</td>\n",
       "      <td>82</td>\n",
       "      <td>0</td>\n",
       "      <td>0</td>\n",
       "      <td>1</td>\n",
       "      <td>81</td>\n",
       "    </tr>\n",
       "    <tr>\n",
       "      <th>Boxster</th>\n",
       "      <td>1</td>\n",
       "      <td>0</td>\n",
       "      <td>0</td>\n",
       "      <td>0</td>\n",
       "      <td>0</td>\n",
       "      <td>5</td>\n",
       "    </tr>\n",
       "    <tr>\n",
       "      <th>C class</th>\n",
       "      <td>6</td>\n",
       "      <td>0</td>\n",
       "      <td>0</td>\n",
       "      <td>3</td>\n",
       "      <td>3</td>\n",
       "      <td>958</td>\n",
       "    </tr>\n",
       "    <tr>\n",
       "      <th>CLA class</th>\n",
       "      <td>0</td>\n",
       "      <td>0</td>\n",
       "      <td>0</td>\n",
       "      <td>25</td>\n",
       "      <td>17</td>\n",
       "      <td>0</td>\n",
       "    </tr>\n",
       "    <tr>\n",
       "      <th>CRV</th>\n",
       "      <td>0</td>\n",
       "      <td>1</td>\n",
       "      <td>0</td>\n",
       "      <td>0</td>\n",
       "      <td>440</td>\n",
       "      <td>0</td>\n",
       "    </tr>\n",
       "    <tr>\n",
       "      <th>CX5</th>\n",
       "      <td>1</td>\n",
       "      <td>0</td>\n",
       "      <td>0</td>\n",
       "      <td>56</td>\n",
       "      <td>448</td>\n",
       "      <td>1</td>\n",
       "    </tr>\n",
       "    <tr>\n",
       "      <th>CX8</th>\n",
       "      <td>0</td>\n",
       "      <td>0</td>\n",
       "      <td>0</td>\n",
       "      <td>14</td>\n",
       "      <td>106</td>\n",
       "      <td>0</td>\n",
       "    </tr>\n",
       "    <tr>\n",
       "      <th>Camry</th>\n",
       "      <td>5</td>\n",
       "      <td>0</td>\n",
       "      <td>0</td>\n",
       "      <td>0</td>\n",
       "      <td>1046</td>\n",
       "      <td>0</td>\n",
       "    </tr>\n",
       "    <tr>\n",
       "      <th>Captiva</th>\n",
       "      <td>0</td>\n",
       "      <td>0</td>\n",
       "      <td>0</td>\n",
       "      <td>1</td>\n",
       "      <td>152</td>\n",
       "      <td>0</td>\n",
       "    </tr>\n",
       "  </tbody>\n",
       "</table>\n",
       "</div>"
      ],
      "text/plain": [
       "drive_type  -  4WD - Dẫn động 4 bánh  4WD hoặc AWD  \\\n",
       "serie                                                \n",
       "3           1                      0             0   \n",
       "3 Series    0                      0             0   \n",
       "4 Runner    0                      2             0   \n",
       "6           2                      1             0   \n",
       "A class     0                      0             0   \n",
       "A2          0                      4             0   \n",
       "A4          1                      0             0   \n",
       "A5          0                      0             0   \n",
       "A6          0                      0             0   \n",
       "A8          0                      0             0   \n",
       "Avanza      1                      0             0   \n",
       "BT50        0                     82             0   \n",
       "Boxster     1                      0             0   \n",
       "C class     6                      0             0   \n",
       "CLA class   0                      0             0   \n",
       "CRV         0                      1             0   \n",
       "CX5         1                      0             0   \n",
       "CX8         0                      0             0   \n",
       "Camry       5                      0             0   \n",
       "Captiva     0                      0             0   \n",
       "\n",
       "drive_type  AWD - 4 bánh toàn thời gian  FWD - Dẫn động cầu trước  \\\n",
       "serie                                                               \n",
       "3                                     0                       907   \n",
       "3 Series                              3                         1   \n",
       "4 Runner                              2                         0   \n",
       "6                                     0                       269   \n",
       "A class                              10                        14   \n",
       "A2                                    0                         1   \n",
       "A4                                    5                        29   \n",
       "A5                                   11                         1   \n",
       "A6                                    2                        37   \n",
       "A8                                   11                         2   \n",
       "Avanza                                0                         0   \n",
       "BT50                                  0                         1   \n",
       "Boxster                               0                         0   \n",
       "C class                               3                         3   \n",
       "CLA class                            25                        17   \n",
       "CRV                                   0                       440   \n",
       "CX5                                  56                       448   \n",
       "CX8                                  14                       106   \n",
       "Camry                                 0                      1046   \n",
       "Captiva                               1                       152   \n",
       "\n",
       "drive_type  RFD - Dẫn động cầu sau  \n",
       "serie                               \n",
       "3                                0  \n",
       "3 Series                       236  \n",
       "4 Runner                         0  \n",
       "6                                0  \n",
       "A class                          0  \n",
       "A2                               3  \n",
       "A4                               0  \n",
       "A5                               0  \n",
       "A6                               0  \n",
       "A8                               0  \n",
       "Avanza                          37  \n",
       "BT50                            81  \n",
       "Boxster                          5  \n",
       "C class                        958  \n",
       "CLA class                        0  \n",
       "CRV                              0  \n",
       "CX5                              1  \n",
       "CX8                              0  \n",
       "Camry                            0  \n",
       "Captiva                          0  "
      ]
     },
     "execution_count": 33,
     "metadata": {},
     "output_type": "execute_result"
    }
   ],
   "source": [
    "correlation_by_in_out_col = df.groupby(['serie', 'drive_type']).count()['url']\n",
    "\n",
    "correlation_matrix = correlation_by_in_out_col.unstack('drive_type').fillna(0).astype(int)\n",
    "\n",
    "not_1_1_relationship_idx = []\n",
    "\n",
    "for index, row in correlation_matrix.iterrows():\n",
    "    if len(row[row > 0]) > 1:\n",
    "        not_1_1_relationship_idx.append(index)\n",
    "\n",
    "correlation_matrix[correlation_matrix.index.isin(not_1_1_relationship_idx)][0:20]"
   ]
  },
  {
   "cell_type": "markdown",
   "id": "379b6a77",
   "metadata": {},
   "source": [
    "##### Phân tích về dung tích xi lanh\n",
    "\n",
    "\n",
    "Có vẻ như sẽ có thể bỏ được trường này"
   ]
  },
  {
   "cell_type": "code",
   "execution_count": 38,
   "id": "22a75de0",
   "metadata": {},
   "outputs": [
    {
     "data": {
      "text/plain": [
       "Index(['Vios', 'Innova', 'Morning', 'Ranger', 'Fortuner'], dtype='object')"
      ]
     },
     "execution_count": 38,
     "metadata": {},
     "output_type": "execute_result"
    }
   ],
   "source": [
    "featured_series = df['serie'].value_counts()[:5].index\n",
    "featured_series"
   ]
  },
  {
   "cell_type": "code",
   "execution_count": 39,
   "id": "9c987e75",
   "metadata": {},
   "outputs": [],
   "source": [
    "cyline_analysis_df = df[df['serie'].isin(featured_series)]"
   ]
  },
  {
   "cell_type": "code",
   "execution_count": 41,
   "id": "e13b1872",
   "metadata": {},
   "outputs": [
    {
     "data": {
      "text/plain": [
       "<AxesSubplot:xlabel='serie', ylabel='cylinder_capacity'>"
      ]
     },
     "execution_count": 41,
     "metadata": {},
     "output_type": "execute_result"
    },
    {
     "data": {
      "image/png": "[encoded data removed]",
      "text/plain": [
       "<Figure size 432x288 with 1 Axes>"
      ]
     },
     "metadata": {
      "needs_background": "light"
     },
     "output_type": "display_data"
    }
   ],
   "source": [
    "sns.barplot(data=cyline_analysis_df, x='serie', y='cylinder_capacity')"
   ]
  },
  {
   "cell_type": "code",
   "execution_count": 47,
   "id": "b35c1c8c",
   "metadata": {},
   "outputs": [
    {
     "data": {
      "text/plain": [
       "serie\n",
       "Fortuner    2.549586\n",
       "Innova      2.000000\n",
       "Morning     1.135401\n",
       "Ranger      2.230385\n",
       "Vios        1.495357\n",
       "Name: cylinder_capacity, dtype: float64"
      ]
     },
     "execution_count": 47,
     "metadata": {},
     "output_type": "execute_result"
    }
   ],
   "source": [
    "cyline_analysis_df.groupby('serie').mean()['cylinder_capacity']"
   ]
  },
  {
   "cell_type": "code",
   "execution_count": 48,
   "id": "3a259cc3",
   "metadata": {},
   "outputs": [
    {
     "data": {
      "text/plain": [
       "serie\n",
       "Fortuner    0.138640\n",
       "Innova      0.000000\n",
       "Morning     0.111825\n",
       "Ranger      0.337897\n",
       "Vios        0.030127\n",
       "Name: cylinder_capacity, dtype: float64"
      ]
     },
     "execution_count": 48,
     "metadata": {},
     "output_type": "execute_result"
    }
   ],
   "source": [
    "cyline_analysis_df.groupby('serie').std()['cylinder_capacity']"
   ]
  }
 ],
 "metadata": {
  "kernelspec": {
   "display_name": "Python 3 (ipykernel)",
   "language": "python",
   "name": "python3"
  },
  "language_info": {
   "codemirror_mode": {
    "name": "ipython",
    "version": 3
   },
   "file_extension": ".py",
   "mimetype": "text/x-python",
   "name": "python",
   "nbconvert_exporter": "python",
   "pygments_lexer": "ipython3",
   "version": "3.9.8"
  }
 },
 "nbformat": 4,
 "nbformat_minor": 5
}
